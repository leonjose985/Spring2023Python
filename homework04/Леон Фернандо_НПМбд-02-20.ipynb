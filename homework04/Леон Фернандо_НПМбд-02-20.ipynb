{
 "cells": [
  {
   "attachments": {},
   "cell_type": "markdown",
   "metadata": {},
   "source": [
    "## 4-е домашнее задание - Библиотека numpy\n",
    "\n",
    "Подпишите этот блокнот: укажите ФИО и номер группы. Выполненное задание загрузите в свой репозиторий «<b>Spring2023Python</b>» в github в папку \"<b>homework04</b>\".  \n",
    "\n",
    "Перед выполнением этого домашнего задания полезно прочитать про возможности и основные методы библиотеки numpy:  \n",
    "http://acm.mipt.ru/twiki/bin/view/Cintro/PythonNumpy  \n"
   ]
  },
  {
   "attachments": {},
   "cell_type": "markdown",
   "metadata": {},
   "source": [
    "1.\tСоздайте равномерное разбиение интервала от -1.3 до 2.5 на 64 отрезка."
   ]
  },
  {
   "cell_type": "code",
   "execution_count": 11,
   "metadata": {},
   "outputs": [
    {
     "data": {
      "text/plain": [
       "array([-1.3     , -1.240625, -1.18125 , -1.121875, -1.0625  , -1.003125,\n",
       "       -0.94375 , -0.884375, -0.825   , -0.765625, -0.70625 , -0.646875,\n",
       "       -0.5875  , -0.528125, -0.46875 , -0.409375, -0.35    , -0.290625,\n",
       "       -0.23125 , -0.171875, -0.1125  , -0.053125,  0.00625 ,  0.065625,\n",
       "        0.125   ,  0.184375,  0.24375 ,  0.303125,  0.3625  ,  0.421875,\n",
       "        0.48125 ,  0.540625,  0.6     ,  0.659375,  0.71875 ,  0.778125,\n",
       "        0.8375  ,  0.896875,  0.95625 ,  1.015625,  1.075   ,  1.134375,\n",
       "        1.19375 ,  1.253125,  1.3125  ,  1.371875,  1.43125 ,  1.490625,\n",
       "        1.55    ,  1.609375,  1.66875 ,  1.728125,  1.7875  ,  1.846875,\n",
       "        1.90625 ,  1.965625,  2.025   ,  2.084375,  2.14375 ,  2.203125,\n",
       "        2.2625  ,  2.321875,  2.38125 ,  2.440625,  2.5     ])"
      ]
     },
     "execution_count": 11,
     "metadata": {},
     "output_type": "execute_result"
    }
   ],
   "source": [
    "import numpy as np\n",
    "np.linspace(-1.3, 2.5, 65)"
   ]
  },
  {
   "attachments": {},
   "cell_type": "markdown",
   "metadata": {},
   "source": [
    "2.\tСгенерируйте numpy массив длины $3n$, заполненный циклически числами 1, 2, 3, 1, 2, 3, 1...."
   ]
  },
  {
   "cell_type": "code",
   "execution_count": 25,
   "metadata": {},
   "outputs": [
    {
     "data": {
      "text/plain": [
       "array([1, 2, 3, 1, 2, 3])"
      ]
     },
     "execution_count": 25,
     "metadata": {},
     "output_type": "execute_result"
    }
   ],
   "source": [
    "n = 2\n",
    "\n",
    "np.array([1, 2, 3]*n)"
   ]
  },
  {
   "attachments": {},
   "cell_type": "markdown",
   "metadata": {},
   "source": [
    "3.\tСоздайте массив первых 10 нечетных целых чисел."
   ]
  },
  {
   "cell_type": "code",
   "execution_count": 2,
   "metadata": {},
   "outputs": [
    {
     "data": {
      "text/plain": [
       "array([ 1,  3,  5,  7,  9, 11, 13, 15, 17, 19])"
      ]
     },
     "execution_count": 2,
     "metadata": {},
     "output_type": "execute_result"
    }
   ],
   "source": [
    "import numpy as np\n",
    "np.arange(1, 20, 2)"
   ]
  },
  {
   "attachments": {},
   "cell_type": "markdown",
   "metadata": {},
   "source": [
    "4.  Создайте массив нулей размера 10 x 10, а затем создайте в нём \"рамку\" из единиц по краям."
   ]
  },
  {
   "cell_type": "code",
   "execution_count": 1,
   "metadata": {},
   "outputs": [
    {
     "data": {
      "text/plain": [
       "array([[1., 1., 1., 1., 1., 1., 1., 1., 1., 1.],\n",
       "       [1., 0., 0., 0., 0., 0., 0., 0., 0., 1.],\n",
       "       [1., 0., 0., 0., 0., 0., 0., 0., 0., 1.],\n",
       "       [1., 0., 0., 0., 0., 0., 0., 0., 0., 1.],\n",
       "       [1., 0., 0., 0., 0., 0., 0., 0., 0., 1.],\n",
       "       [1., 0., 0., 0., 0., 0., 0., 0., 0., 1.],\n",
       "       [1., 0., 0., 0., 0., 0., 0., 0., 0., 1.],\n",
       "       [1., 0., 0., 0., 0., 0., 0., 0., 0., 1.],\n",
       "       [1., 0., 0., 0., 0., 0., 0., 0., 0., 1.],\n",
       "       [1., 1., 1., 1., 1., 1., 1., 1., 1., 1.]])"
      ]
     },
     "execution_count": 1,
     "metadata": {},
     "output_type": "execute_result"
    }
   ],
   "source": [
    "import numpy as np\n",
    "matrix = np.zeros((10, 10))\n",
    "matrix[0, :] = 1\n",
    "matrix[:, 0] = 1\n",
    "matrix[9, :] = 1\n",
    "matrix[:, 9] = 1\n",
    "matrix"
   ]
  },
  {
   "attachments": {},
   "cell_type": "markdown",
   "metadata": {},
   "source": [
    "5.  Создайте массив 8 x 8 с шахматной доской из нулей и единиц."
   ]
  },
  {
   "cell_type": "code",
   "execution_count": 2,
   "metadata": {},
   "outputs": [
    {
     "data": {
      "text/plain": [
       "array([[1., 0., 1., 0., 1., 0., 1., 0.],\n",
       "       [0., 1., 0., 1., 0., 1., 0., 1.],\n",
       "       [1., 0., 1., 0., 1., 0., 1., 0.],\n",
       "       [0., 1., 0., 1., 0., 1., 0., 1.],\n",
       "       [1., 0., 1., 0., 1., 0., 1., 0.],\n",
       "       [0., 1., 0., 1., 0., 1., 0., 1.],\n",
       "       [1., 0., 1., 0., 1., 0., 1., 0.],\n",
       "       [0., 1., 0., 1., 0., 1., 0., 1.]])"
      ]
     },
     "execution_count": 2,
     "metadata": {},
     "output_type": "execute_result"
    }
   ],
   "source": [
    "matrix = np.zeros((8, 8))\n",
    "matrix[0 :: 2, 0 :: 2] = 1\n",
    "matrix[1 :: 2, 1 :: 2] = 1\n",
    "matrix"
   ]
  },
  {
   "attachments": {},
   "cell_type": "markdown",
   "metadata": {},
   "source": [
    "6.  Создайте функцию, которая создает $n×n$ матрицу с $(i,j)$-элементом, равным $i+j$."
   ]
  },
  {
   "cell_type": "code",
   "execution_count": 6,
   "metadata": {},
   "outputs": [
    {
     "data": {
      "text/plain": [
       "array([[0, 1, 2, 3, 4],\n",
       "       [1, 2, 3, 4, 5],\n",
       "       [2, 3, 4, 5, 6],\n",
       "       [3, 4, 5, 6, 7],\n",
       "       [4, 5, 6, 7, 8]])"
      ]
     },
     "execution_count": 6,
     "metadata": {},
     "output_type": "execute_result"
    }
   ],
   "source": [
    "def ij_sum_matrix(n):\n",
    "    i, j = np.ogrid[:n, :n]\n",
    "    return i+j\n",
    "ij_sum_matrix(5)"
   ]
  },
  {
   "attachments": {},
   "cell_type": "markdown",
   "metadata": {},
   "source": [
    "7. Примените функцию dot для перемножения вектор на вектор, матрицу на вектор и матрицу на матрицу."
   ]
  },
  {
   "cell_type": "code",
   "execution_count": 7,
   "metadata": {},
   "outputs": [
    {
     "name": "stdout",
     "output_type": "stream",
     "text": [
      "4 - multiply vector by vector\n",
      "-------------------------------------\n",
      "[20 20 44 44] - multiply matrix by vector\n",
      "-------------------------------------\n",
      "[[31 30 29 28]\n",
      " [31 30 29 28]\n",
      " [71 70 69 68]\n",
      " [71 70 69 68]] - multiply matrix by matrix\n"
     ]
    }
   ],
   "source": [
    "vector1 = np.array([0, 1, 2, 3])\n",
    "vector2 = np.array([3, 2, 1, 0])\n",
    "\n",
    "matrix1 = np.array([\n",
    "    [1, 2, 3, 4], \n",
    "    [1, 2, 3, 4], \n",
    "    [5, 6, 7, 8], \n",
    "    [5, 6, 7, 8]\n",
    "])\n",
    "matrix2 = np.array([\n",
    "    [1, 1, 1, 1], \n",
    "    [1, 2, 3, 4], \n",
    "    [4, 3, 2, 1], \n",
    "    [4, 4, 4, 4]\n",
    "])\n",
    "\n",
    "print(str(np.vdot(vector1, vector2)) + ' - multiply vector by vector')\n",
    "print('-------------------------------------')\n",
    "print(str(np.dot(matrix1, vector1)) + ' - multiply matrix by vector')     \n",
    "print('-------------------------------------')\n",
    "print(str(np.dot(matrix1, matrix2)) + ' - multiply matrix by matrix') "
   ]
  },
  {
   "attachments": {},
   "cell_type": "markdown",
   "metadata": {},
   "source": [
    "8. Вычислите cos(x) и sin(x) на интервале [0,1] с шагом $0.05$, а затем объедините оба массива чисел как строки в один массив."
   ]
  },
  {
   "cell_type": "code",
   "execution_count": 8,
   "metadata": {},
   "outputs": [
    {
     "data": {
      "text/plain": [
       "[1.0,\n",
       " 0.9987502603949663,\n",
       " 0.9950041652780258,\n",
       " 0.9887710779360422,\n",
       " 0.9800665778412416,\n",
       " 0.9689124217106447,\n",
       " 0.955336489125606,\n",
       " 0.9393727128473789,\n",
       " 0.9210609940028851,\n",
       " 0.9004471023526769,\n",
       " 0.8775825618903728,\n",
       " 0.8525245220595057,\n",
       " 0.8253356149096782,\n",
       " 0.7960837985490559,\n",
       " 0.7648421872844884,\n",
       " 0.7316888688738209,\n",
       " 0.6967067093471654,\n",
       " 0.6599831458849821,\n",
       " 0.6216099682706644,\n",
       " 0.5816830894638835,\n",
       " 0.5403023058681398,\n",
       " 0.0,\n",
       " 0.04997916927067833,\n",
       " 0.09983341664682815,\n",
       " 0.14943813247359924,\n",
       " 0.19866933079506122,\n",
       " 0.24740395925452294,\n",
       " 0.2955202066613396,\n",
       " 0.3428978074554514,\n",
       " 0.3894183423086505,\n",
       " 0.43496553411123023,\n",
       " 0.479425538604203,\n",
       " 0.5226872289306592,\n",
       " 0.5646424733950355,\n",
       " 0.6051864057360395,\n",
       " 0.6442176872376911,\n",
       " 0.6816387600233341,\n",
       " 0.7173560908995228,\n",
       " 0.7512804051402927,\n",
       " 0.7833269096274834,\n",
       " 0.8134155047893737,\n",
       " 0.8414709848078965]"
      ]
     },
     "execution_count": 8,
     "metadata": {},
     "output_type": "execute_result"
    }
   ],
   "source": [
    "cos_x = np.cos(np.linspace(0, 1, int(1 / 0.05 + 1)))\n",
    "sin_x = np.sin(np.linspace(0, 1, int(1 / 0.05 + 1)))\n",
    "list(cos_x) + list(sin_x)"
   ]
  },
  {
   "attachments": {},
   "cell_type": "markdown",
   "metadata": {},
   "source": [
    "9. Создайте матрицу $A$ размера $3×5$ из случайных чисел с равномерным распределением на отрезке $[-1,3]$ (используйте np.random.rand)"
   ]
  },
  {
   "cell_type": "code",
   "execution_count": 10,
   "metadata": {},
   "outputs": [
    {
     "data": {
      "text/plain": [
       "array([[ 2.94012593,  0.17228655,  0.87769533,  1.93184594,  0.99885045],\n",
       "       [ 1.82759303, -0.04520979,  2.56169856, -0.47755193,  0.1280213 ],\n",
       "       [-0.53018751,  0.73858108,  0.98596891,  1.03303272,  1.55838686]])"
      ]
     },
     "execution_count": 10,
     "metadata": {},
     "output_type": "execute_result"
    }
   ],
   "source": [
    "a = 4 * np.random.rand(3,5) - 1\n",
    "a"
   ]
  },
  {
   "attachments": {},
   "cell_type": "markdown",
   "metadata": {},
   "source": [
    "10. Найдите сумму всех элементов, сумму внутри строк, сумму внутри столбцов, а также среднее значение, дисперсию и стандартное отклонение чисел для каждой строки матрицы $A$. (Подобно тому, как sorted имеет необязательный аргумент key=, многие функции Numpy имеют необязательный аргумент axis=)\n"
   ]
  },
  {
   "cell_type": "code",
   "execution_count": 13,
   "metadata": {},
   "outputs": [
    {
     "name": "stdout",
     "output_type": "stream",
     "text": [
      "14.701137415092491  - the sum of all elements of the matrix\n",
      "[6.92080419 3.99455117 3.78578205]  - the sum inside the rows of the matrix\n",
      "[4.23753144 0.86565784 4.4253628  2.48732673 2.68525862]  - the sum inside the columns of the matrix\n",
      "[1.38416084 0.79891023 0.75715641]  - average value for each row\n",
      "[0.91891941 1.39151944 0.48560651]  - variance for each row\n",
      "[0.95860284 1.17962682 0.69685473]  - standard deviation for each row\n"
     ]
    }
   ],
   "source": [
    "summa = np.sum(a)\n",
    "rows = np.sum(a, axis = 1)\n",
    "columns = np.sum(a, axis = 0)\n",
    "avg = np.mean(a, axis = 1)\n",
    "disp = np.var(a, axis = 1)\n",
    "otkl = np.std(a, axis = 1)\n",
    "print(summa, ' - the sum of all elements of the matrix')\n",
    "print(rows, ' - the sum inside the rows of the matrix')\n",
    "print(columns, ' - the sum inside the columns of the matrix')\n",
    "print(avg, ' - average value for each row')\n",
    "print(disp, ' - variance for each row')\n",
    "print(otkl, ' - standard deviation for each row')"
   ]
  },
  {
   "attachments": {},
   "cell_type": "markdown",
   "metadata": {},
   "source": [
    "11.  Отнимите от каждого элемента матрицы $A$ среднее по строке и поделите на стандартное отклонение строки."
   ]
  },
  {
   "cell_type": "code",
   "execution_count": 14,
   "metadata": {},
   "outputs": [
    {
     "data": {
      "text/plain": [
       "array([[ 1.62315927, -1.26420895, -0.52833716,  0.57133682, -0.40194998],\n",
       "       [ 0.87204086, -0.71558226,  1.49436101, -1.08208981, -0.5687298 ],\n",
       "       [-1.84736341, -0.02665596,  0.32835035,  0.39588783,  1.14978118]])"
      ]
     },
     "execution_count": 14,
     "metadata": {},
     "output_type": "execute_result"
    }
   ],
   "source": [
    "for i in range(len(a)):\n",
    "    a[i, :] = (a[i, :] - np.mean(a[i])) / np.std(a[i])\n",
    "a"
   ]
  },
  {
   "attachments": {},
   "cell_type": "markdown",
   "metadata": {},
   "source": [
    "12. Отсортируйте матрицу $A$ по 3-ому столбцу, т.е. поменяйте местами строки матрицы так, чтобы 3-й столбец оказался отсортированным. Используйте для этого slicing + argsort + indexing."
   ]
  },
  {
   "cell_type": "code",
   "execution_count": 15,
   "metadata": {},
   "outputs": [
    {
     "data": {
      "text/plain": [
       "array([[ 1.62315927, -1.26420895, -0.52833716,  0.57133682, -0.40194998],\n",
       "       [-1.84736341, -0.02665596,  0.32835035,  0.39588783,  1.14978118],\n",
       "       [ 0.87204086, -0.71558226,  1.49436101, -1.08208981, -0.5687298 ]])"
      ]
     },
     "execution_count": 15,
     "metadata": {},
     "output_type": "execute_result"
    }
   ],
   "source": [
    "col = a[:, 2]\n",
    "sort = col.argsort()\n",
    "a = a[sort]\n",
    "a"
   ]
  },
  {
   "attachments": {},
   "cell_type": "markdown",
   "metadata": {},
   "source": [
    "13. Посчитайте две матрицы: $B = A^TA$ и $C = AA^T$. Что вы можете о них сказать? Какого они размера? В чём их сходство и отличие?"
   ]
  },
  {
   "cell_type": "code",
   "execution_count": 16,
   "metadata": {},
   "outputs": [
    {
     "name": "stdout",
     "output_type": "stream",
     "text": [
      "[[ 6.80785285 -2.6267862  -0.16101393 -0.74760457 -3.27244815]\n",
      " [-2.6267862   2.11099278 -0.41016214  0.04148238  0.88447319]\n",
      " [-0.16101393 -0.41016214  2.62006893 -1.78890138 -0.25999147]\n",
      " [-0.74760457  0.04148238 -1.78890138  1.65407129  0.84095229]\n",
      " [-3.27244815  0.88447319 -0.25999147  0.84095229  1.80701414]]  - matrix В\n",
      "[[ 5.         -3.37431526  1.14094343]\n",
      " [-3.37431526  5.         -2.1835289 ]\n",
      " [ 1.14094343 -2.1835289   5.        ]]  - matrix С\n"
     ]
    }
   ],
   "source": [
    "matr_b = np.dot(np.transpose(a), a)\n",
    "matr_c = np.dot(a, np.transpose(a))\n",
    "print(matr_b, ' - matrix В')\n",
    "print(matr_c, ' - matrix С')"
   ]
  },
  {
   "attachments": {},
   "cell_type": "markdown",
   "metadata": {},
   "source": [
    "14. Найдите сумму диагональных элементов матриц $B$ и $C$."
   ]
  },
  {
   "cell_type": "code",
   "execution_count": 17,
   "metadata": {},
   "outputs": [
    {
     "data": {
      "text/plain": [
       "30.000000000000004"
      ]
     },
     "execution_count": 17,
     "metadata": {},
     "output_type": "execute_result"
    }
   ],
   "source": [
    "np.sum(np.diagonal(matr_b)) + np.sum(np.diagonal(matr_c))"
   ]
  },
  {
   "attachments": {},
   "cell_type": "markdown",
   "metadata": {},
   "source": [
    "15.\tПосчитайте детерминант и ранг матриц $A$, $B$ и $C$, посмотрите на спектр (набор собственных значений) матриц $B$ и $C$, какие выводы вы можете сделать?  \n",
    "(подсказка: используйте готовые функции из библиотеки np.linalg). \n"
   ]
  },
  {
   "cell_type": "code",
   "execution_count": 20,
   "metadata": {},
   "outputs": [
    {
     "ename": "NameError",
     "evalue": "name 'b' is not defined",
     "output_type": "error",
     "traceback": [
      "\u001b[1;31m---------------------------------------------------------------------------\u001b[0m",
      "\u001b[1;31mNameError\u001b[0m                                 Traceback (most recent call last)",
      "Cell \u001b[1;32mIn[20], line 1\u001b[0m\n\u001b[1;32m----> 1\u001b[0m det_b \u001b[39m=\u001b[39m np\u001b[39m.\u001b[39mlinalg\u001b[39m.\u001b[39mdet(b)\n\u001b[0;32m      2\u001b[0m det_c \u001b[39m=\u001b[39m np\u001b[39m.\u001b[39mlinalg\u001b[39m.\u001b[39mdet(c)\n\u001b[0;32m      3\u001b[0m rank_a \u001b[39m=\u001b[39m np\u001b[39m.\u001b[39mlinalg\u001b[39m.\u001b[39mmatrix_rank(a)\n",
      "\u001b[1;31mNameError\u001b[0m: name 'b' is not defined"
     ]
    }
   ],
   "source": [
    "det_b = np.linalg.det(b)\n",
    "det_c = np.linalg.det(c)\n",
    "rank_a = np.linalg.matrix_rank(a)\n",
    "rank_b = np.linalg.matrix_rank(b)\n",
    "rank_c = np.linalg.matrix_rank(c)\n",
    "w_b, v_b = np.linalg.eig(b)\n",
    "w_c, v_b = np.linalg.eig(c)\n",
    "\n",
    "print(f'Ранг матрицы А: {rank_a}\\nДетерминант матрицы B: {det_b}\\nРанг матрицы B: {rank_b}\\n' \\\n",
    "      f'Спектр матрицы B: {w_b}\\nДетерминант матрицы C: {det_c}\\nРанг матрицы C: {rank_c}\\n' \\\n",
    "      f'Спектр матрицы C: {w_c}\\n')\n"
   ]
  },
  {
   "attachments": {},
   "cell_type": "markdown",
   "metadata": {},
   "source": [
    "16. Численно посчитать определённый интеграл  3-мя методами:  \n",
    "a)\tПрямоугольников $\\int\\limits_a^b {f(x)dx \\approx \\Delta x\\sum\\limits_{k = 0}^N {f({x_k})} }$  \n",
    "b)\tТрапеций $\\int\\limits_a^b {f(x)dx \\approx \\frac{{\\Delta x}}{2}\\left( {f({x_0}) + 2\\sum\\limits_{k = 1}^{N - 1} {f({x_k})}  + f({x_N})} \\right)}$  \n",
    "c)\tПо правилу Симпсона  $\\int\\limits_a^b {f(x)dx \\approx \\frac{{\\Delta x}}{3}\\left( {f({x_0}) + 2\\sum\\limits_{k = 1}^{N/2 - 1} {f({x_{2k}})}  + 4\\sum\\limits_{k = 1}^{N/2} {f({x_{2k - 1}})}  + f({x_N})} \\right)}$  \n",
    "\n",
    "\n",
    "В реализации этих методов цикл for для суммирования использовать нельзя.  \n",
    "Нужно посчитать значение интеграла с некоторым шагом интегрирования (например начать с 0.1), потом уменьшить его в десять раз и ещё раз посчитать и так до тех пор пока отличие в ответах будет в 5-м знаке после запятой, т.е. чтобы ошибка была меньше 1e-5. Получить ответы для 3-х разных методов и сделать соответствующие выводы.  \n",
    "\n",
    "Далее необходимо сравнить полученные оценки с аналитическим решением (т.е. формульным, которое вы должны сами посчитать на листочке и вбить формулу-ответ).   \n",
    "\n",
    "В качестве интеграла взять два из следующих примеров:  \n",
    "- один с номером, сгенерированным случайным образом с помощью функции np.random.randint(9), в качестве seed для генератора случайных чисел взять номер своего студенческого билета. \n",
    "- второй номер - под номером 9, несобственный интерграл. Подумайте, как сделать подбор шага интегрирования адаптивным.\n",
    "\n",
    "<table width=\"80%\"\n",
    "       align=\"center\">\n",
    "    <tr>\n",
    "        <td> 0) $\\int\\limits_3^4 {\\frac{{{x^2} + 3}}{{x - 2}}dx}$ </td>\n",
    "        <td> 1) $\\int\\limits_{ - 2}^{ - 1} {\\frac{{x + 1}}{{{x^3} - {x^2}}}dx}$ </td>\n",
    "        <td> 2) $\\int\\limits_1^2 {\\frac{{{e^{1/{x^2}}}}}{{{x^3}}}dx}$ </td>\n",
    "        <td> 3) $\\int\\limits_1^e {\\frac{{\\cos (\\ln x)}}{x}dx}$ </td>\n",
    "        <td> 4) $\\int\\limits_1^e {\\frac{{dx}}{{x(1 + {{\\ln }^2}x)}}}$ </td>\n",
    "    </tr>                \n",
    "    <tr>\n",
    "        <td> 5) $\\int\\limits_0^{\\pi /2} {{{\\cos }^3}\\alpha \\;d\\alpha }$ </td>\n",
    "        <td> 6) $\\int\\limits_0^{1/3} {c{h^2}3x\\;dx}$ </td>\n",
    "        <td> 7) $\\int\\limits_2^3 {\\frac{{dy}}{{{y^2} - 2y - 8}}dy}$ </td>\n",
    "        <td> 8) $\\int\\limits_0^2 {\\frac{{2x - 1}}{{2x + 1}}dx}$ </td>\n",
    "        <td> 9) $\\int\\limits_{3/4}^2 {\\frac{{dx}}{{\\sqrt {2 + 3x - 2{x^2}} }}}$ </td>\n",
    "        </tr>\n",
    "</table>"
   ]
  },
  {
   "cell_type": "code",
   "execution_count": 23,
   "metadata": {},
   "outputs": [
    {
     "name": "stdout",
     "output_type": "stream",
     "text": [
      "1\n",
      "10.352030263919618 - аналитическое решение функции f(x) на отрезке [3;4]\n",
      "0.0715080883938078, -6.047936356050637, -4.009935917709719 при шаге интегрирования 0.1\n",
      "0.07426904095182782, -50.93666530248251, -33.93322124473947 при шаге интегрирования 0.010000000000000002\n",
      "0.07525503921081832, -500.9258292951235, -333.9254823614969 при шаге интегрирования 0.0010000000000000002\n",
      "0.07535323830134504, -5000.92475510503, -3333.9247203857017 при шаге интегрирования 0.00010000000000000003\n",
      "0.07536305428293223, -50000.924647779146, -33333.92464430695 при шаге интегрирования 1.0000000000000003e-05\n",
      "0.07536403584189473, -500000.9246370472, -333333.9246367001 при шаге интегрирования 1.0000000000000004e-06\n"
     ]
    },
    {
     "data": {
      "text/plain": [
       "'Мы видим, что при уменьшении dx уменьшается разница между аналитическим решением и тремя численными выше. Происходит это\\nза счёт увеличения числа шагов N и числа точек xk.'"
      ]
     },
     "execution_count": 23,
     "metadata": {},
     "output_type": "execute_result"
    }
   ],
   "source": [
    "#number 2\n",
    "np.random.seed(17)\n",
    "print(np.random.randint(9))\n",
    "def f(x):\n",
    "    return (x+1)/(x**3-x**2)\n",
    "\n",
    "def integral(f, a, b, dx):\n",
    "    \"\"\"\n",
    "    Ввод: функция f(x), начало и конец отрезка [a;b], шаг интегрирования\n",
    "    \n",
    "    Вывод: значение интеграла функции f(x) на отрезке [a;b]\n",
    "    \"\"\"\n",
    "    N = int((b-a) / dx)  # количество шагов\n",
    "    xk = np.linspace(a, b, N)  # точки\n",
    "    rectan = dx*np.sum(f(xk))  # решение методом прямоугольников\n",
    "    trapezoid = dx/2*(f(dx) + 2*np.sum(f(xk[1:-1])) + f(xk[-1]))  # решение методом трапеций\n",
    "    simp = dx/3*(f(dx) + 2*np.sum(f(xk[2:-1:2])) + 4*np.sum(f(xk[1:-2:2])) + f(xk[-1]))  # решение методом Симпсона\n",
    "    return f\"{rectan}, {trapezoid}, {simp} при шаге интегрирования {dx}\"\n",
    "\n",
    "anal_solution = np.float64(10.35203026391961716592062485020723)  # аналитическое решение\n",
    "print(f\"{anal_solution} - аналитическое решение функции f(x) на отрезке [3;4]\")\n",
    "\n",
    "for i in range(6):\n",
    "    print(integral(f, -2, -1, 0.1 * 0.1**i))\n",
    "\n",
    "\"\"\"Мы видим, что при уменьшении dx уменьшается разница между аналитическим решением и тремя численными выше. Происходит это\n",
    "за счёт увеличения числа шагов N и числа точек xk.\"\"\""
   ]
  },
  {
   "cell_type": "code",
   "execution_count": 24,
   "metadata": {},
   "outputs": [
    {
     "name": "stdout",
     "output_type": "stream",
     "text": [
      "1.1107207345395915 - аналитическое решение функции f(x) на отрезке [3/4;2]\n",
      "0.8238512126812755, 0.8098258036743812, 0.7737705910624484 при шаге интегрирования 0.1\n",
      "1.0322244184751246, 1.0312903460191785, 1.0212859253328779 при шаге интегрирования 0.010000000000000002\n",
      "1.0887148327101404, 1.088627061795969, 1.072525102066485 при шаге интегрирования 0.0010000000000000002\n",
      "1.1040534034851663, 1.1040446838813676, 1.0989731743454727 при шаге интегрирования 0.00010000000000000003\n",
      "inf, 1.1086409328324405, 1.1070394070810448 при шаге интегрирования 1.0000000000000003e-05\n",
      "inf, 1.1100661882097627, 1.1095599697750977 при шаге интегрирования 1.0000000000000004e-06\n"
     ]
    },
    {
     "name": "stderr",
     "output_type": "stream",
     "text": [
      "C:\\Users\\Fernando\\AppData\\Local\\Temp\\ipykernel_2212\\96352255.py:2: RuntimeWarning: divide by zero encountered in divide\n",
      "  return 1/np.sqrt(2+3*x-2*x**2, where = x!=2)\n"
     ]
    },
    {
     "data": {
      "text/plain": [
       "'Мы видим, что при уменьшении dx уменьшается разница между аналитическим решением и тремя численными выше. Происходит это\\nза счёт увеличения числа шагов N и числа точек xk.'"
      ]
     },
     "execution_count": 24,
     "metadata": {},
     "output_type": "execute_result"
    }
   ],
   "source": [
    "def f(x):\n",
    "    return 1/np.sqrt(2+3*x-2*x**2, where = x!=2)\n",
    "\n",
    "def integral(f, a, b, dx):\n",
    "    \"\"\"\n",
    "    Ввод: функция f(x), начало и конец отрезка [a;b], шаг интегрирования\n",
    "    \n",
    "    Вывод: значение интеграла функции f(x) на отрезке [a;b]\n",
    "    \"\"\"\n",
    "    N = int((b-a) / dx)  # количество шагов\n",
    "    xk = np.linspace(a, b, N)  # точки\n",
    "    rectan = dx*np.sum(f(xk))  # решение методом прямоугольников\n",
    "    trapezoid = dx/2*(f(dx) + 2*np.sum(f(xk[1:-1])) + f(xk[-1]))  # решение методом трапеций\n",
    "    simp = dx/3*(f(dx) + 2*np.sum(f(xk[2:-1:2])) + 4*np.sum(f(xk[1:-2:2])) + f(xk[-1]))  # решение методом Симпсона\n",
    "    return f\"{rectan}, {trapezoid}, {simp} при шаге интегрирования {dx}\"\n",
    "\n",
    "anal_solution = np.float64(1.110720734539591561753970247515173)  # аналитическое решение\n",
    "print(f\"{anal_solution} - аналитическое решение функции f(x) на отрезке [3/4;2]\")\n",
    "\n",
    "for i in range(6):\n",
    "    print(integral(f, np.float64(3/4), 2, 0.1 * 0.1**i))\n",
    "    \n",
    "\"\"\"Мы видим, что при уменьшении dx уменьшается разница между аналитическим решением и тремя численными выше. Происходит это\n",
    "за счёт увеличения числа шагов N и числа точек xk.\"\"\""
   ]
  }
 ],
 "metadata": {
  "kernelspec": {
   "display_name": "Python 3 (ipykernel)",
   "language": "python",
   "name": "python3"
  },
  "language_info": {
   "codemirror_mode": {
    "name": "ipython",
    "version": 3
   },
   "file_extension": ".py",
   "mimetype": "text/x-python",
   "name": "python",
   "nbconvert_exporter": "python",
   "pygments_lexer": "ipython3",
   "version": "3.11.3"
  }
 },
 "nbformat": 4,
 "nbformat_minor": 2
}
